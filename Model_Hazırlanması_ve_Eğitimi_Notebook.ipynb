{
  "cells": [
    {
      "cell_type": "code",
      "execution_count": null,
      "id": "793d13ab",
      "metadata": {
        "id": "793d13ab",
        "outputId": "ab4b4e2b-f407-42c7-dd83-84efe2166b34"
      },
      "outputs": [
        {
          "name": "stdout",
          "output_type": "stream",
          "text": [
            "Requirement already satisfied: librosa in c:\\users\\ovak\\anaconda3\\lib\\site-packages (0.9.2)\n",
            "Requirement already satisfied: resampy>=0.2.2 in c:\\users\\ovak\\anaconda3\\lib\\site-packages (from librosa) (0.4.2)\n",
            "Requirement already satisfied: scipy>=1.2.0 in c:\\users\\ovak\\anaconda3\\lib\\site-packages (from librosa) (1.7.3)\n",
            "Requirement already satisfied: numpy>=1.17.0 in c:\\users\\ovak\\anaconda3\\lib\\site-packages (from librosa) (1.21.5)\n",
            "Requirement already satisfied: audioread>=2.1.9 in c:\\users\\ovak\\anaconda3\\lib\\site-packages (from librosa) (3.0.0)\n",
            "Requirement already satisfied: numba>=0.45.1 in c:\\users\\ovak\\anaconda3\\lib\\site-packages (from librosa) (0.55.1)\n",
            "Requirement already satisfied: pooch>=1.0 in c:\\users\\ovak\\anaconda3\\lib\\site-packages (from librosa) (1.6.0)\n",
            "Requirement already satisfied: packaging>=20.0 in c:\\users\\ovak\\anaconda3\\lib\\site-packages (from librosa) (21.3)\n",
            "Requirement already satisfied: joblib>=0.14 in c:\\users\\ovak\\anaconda3\\lib\\site-packages (from librosa) (1.1.0)\n",
            "Requirement already satisfied: scikit-learn>=0.19.1 in c:\\users\\ovak\\anaconda3\\lib\\site-packages (from librosa) (1.0.2)\n",
            "Requirement already satisfied: soundfile>=0.10.2 in c:\\users\\ovak\\anaconda3\\lib\\site-packages (from librosa) (0.11.0)\n",
            "Requirement already satisfied: decorator>=4.0.10 in c:\\users\\ovak\\anaconda3\\lib\\site-packages (from librosa) (5.1.1)\n",
            "Requirement already satisfied: setuptools in c:\\users\\ovak\\anaconda3\\lib\\site-packages (from numba>=0.45.1->librosa) (61.2.0)\n",
            "Requirement already satisfied: llvmlite<0.39,>=0.38.0rc1 in c:\\users\\ovak\\anaconda3\\lib\\site-packages (from numba>=0.45.1->librosa) (0.38.0)\n",
            "Requirement already satisfied: pyparsing!=3.0.5,>=2.0.2 in c:\\users\\ovak\\anaconda3\\lib\\site-packages (from packaging>=20.0->librosa) (3.0.4)\n",
            "Requirement already satisfied: appdirs>=1.3.0 in c:\\users\\ovak\\anaconda3\\lib\\site-packages (from pooch>=1.0->librosa) (1.4.4)\n",
            "Requirement already satisfied: requests>=2.19.0 in c:\\users\\ovak\\anaconda3\\lib\\site-packages (from pooch>=1.0->librosa) (2.27.1)\n",
            "Requirement already satisfied: charset-normalizer~=2.0.0 in c:\\users\\ovak\\anaconda3\\lib\\site-packages (from requests>=2.19.0->pooch>=1.0->librosa) (2.0.4)\n",
            "Requirement already satisfied: certifi>=2017.4.17 in c:\\users\\ovak\\anaconda3\\lib\\site-packages (from requests>=2.19.0->pooch>=1.0->librosa) (2021.10.8)\n",
            "Requirement already satisfied: urllib3<1.27,>=1.21.1 in c:\\users\\ovak\\anaconda3\\lib\\site-packages (from requests>=2.19.0->pooch>=1.0->librosa) (1.26.9)\n",
            "Requirement already satisfied: idna<4,>=2.5 in c:\\users\\ovak\\anaconda3\\lib\\site-packages (from requests>=2.19.0->pooch>=1.0->librosa) (3.3)\n",
            "Requirement already satisfied: threadpoolctl>=2.0.0 in c:\\users\\ovak\\anaconda3\\lib\\site-packages (from scikit-learn>=0.19.1->librosa) (2.2.0)\n",
            "Requirement already satisfied: cffi>=1.0 in c:\\users\\ovak\\anaconda3\\lib\\site-packages (from soundfile>=0.10.2->librosa) (1.15.0)\n",
            "Requirement already satisfied: pycparser in c:\\users\\ovak\\anaconda3\\lib\\site-packages (from cffi>=1.0->soundfile>=0.10.2->librosa) (2.21)\n"
          ]
        }
      ],
      "source": [
        "!pip install librosa"
      ]
    },
    {
      "cell_type": "code",
      "execution_count": null,
      "id": "3ad7c666",
      "metadata": {
        "id": "3ad7c666",
        "outputId": "89755dfa-f2ab-4d95-c378-c6b0fbbe1fa0"
      },
      "outputs": [
        {
          "name": "stdout",
          "output_type": "stream",
          "text": [
            " Volume in drive C has no label.\n",
            " Volume Serial Number is 00C6-083E\n",
            "\n",
            " Directory of C:\\Users\\OVAK\\Desktop\n",
            "\n",
            "10/06/2022  02:29 PM    <DIR>          .\n",
            "10/06/2022  02:29 PM    <DIR>          ..\n",
            "10/04/2022  08:53 PM    <DIR>          .ipynb_checkpoints\n",
            "09/18/2022  02:22 PM            15,859 Adas weekly schedule.xlsx\n",
            "10/01/2022  11:25 PM    <DIR>          App\n",
            "10/02/2022  12:38 PM         1,036,574 Audio Classification EDA.ipynb\n",
            "10/06/2022  01:21 PM            17,044 Audio CNN.ipynb\n",
            "09/28/2022  08:41 PM    <DIR>          first_repo\n",
            "10/04/2022  09:09 PM    <DIR>          Lite\n",
            "10/02/2022  10:59 AM                65 Preprocessing.py\n",
            "10/04/2022  10:05 PM           233,060 second_part - Copy.ipynb\n",
            "10/04/2022  10:05 PM           233,060 second_part.ipynb\n",
            "08/29/2022  05:03 PM            69,229 Transcript.pdf\n",
            "10/04/2022  07:09 PM    <DIR>          UrbanSound8K\n",
            "09/29/2022  09:08 PM            93,566 yok-ogrenci-belgesi-sorgulama.pdf\n",
            "               8 File(s)      1,698,457 bytes\n",
            "               7 Dir(s)  70,413,340,672 bytes free\n"
          ]
        }
      ],
      "source": [
        "!dir"
      ]
    },
    {
      "cell_type": "code",
      "execution_count": null,
      "id": "32273c73",
      "metadata": {
        "id": "32273c73"
      },
      "outputs": [],
      "source": [
        "import IPython.display as ipd\n",
        "import pandas as pd\n",
        "import numpy as np\n",
        "import os\n",
        "import cv2\n",
        "import librosa\n",
        "import librosa.display\n",
        "import matplotlib.pyplot as plt\n",
        "%matplotlib inline\n",
        "import matplotlib.image\n",
        "import cv2"
      ]
    },
    {
      "cell_type": "code",
      "execution_count": null,
      "id": "da965db9",
      "metadata": {
        "id": "da965db9",
        "outputId": "9c5dde4c-92db-4b2e-90cd-a6bc9aa08abe"
      },
      "outputs": [
        {
          "name": "stdout",
          "output_type": "stream",
          "text": [
            "Requirement already satisfied: opencv-python in c:\\users\\ovak\\anaconda3\\lib\\site-packages (4.6.0.66)\n",
            "Requirement already satisfied: numpy>=1.17.3 in c:\\users\\ovak\\anaconda3\\lib\\site-packages (from opencv-python) (1.21.5)\n"
          ]
        }
      ],
      "source": [
        "!pip3 install opencv-python"
      ]
    },
    {
      "cell_type": "code",
      "execution_count": null,
      "id": "zUXSCxrs_4jr",
      "metadata": {
        "id": "zUXSCxrs_4jr"
      },
      "outputs": [],
      "source": [
        "extracted_features_df = np.load('file_name.npy', allow_pickle=True)"
      ]
    },
    {
      "cell_type": "code",
      "source": [
        "extracted_features_df=pd.DataFrame(extracted_features_df,columns=['feature','classID'])\n",
        "extracted_features_df.head()"
      ],
      "metadata": {
        "id": "5J8HxkoDpKPs",
        "colab": {
          "base_uri": "https://localhost:8080/",
          "height": 206
        },
        "outputId": "15cc9f2f-9231-4a3a-b98f-7fc3afcf3d89"
      },
      "execution_count": null,
      "outputs": [
        {
          "output_type": "execute_result",
          "data": {
            "text/plain": [
              "                                             feature classID\n",
              "0  [[30, 30, 30, 30, 30, 30, 30, 30, 30, 30, 30, ...       3\n",
              "1  [[132, 155, 158, 143, 133, 175, 195, 197, 186,...       2\n",
              "2  [[100, 120, 144, 160, 151, 163, 164, 156, 144,...       2\n",
              "3  [[121, 122, 114, 105, 109, 102, 102, 107, 111,...       2\n",
              "4  [[157, 169, 171, 163, 160, 164, 160, 158, 164,...       2"
            ],
            "text/html": [
              "\n",
              "  <div id=\"df-645efaad-c0df-4fe1-a404-f609a4647f79\">\n",
              "    <div class=\"colab-df-container\">\n",
              "      <div>\n",
              "<style scoped>\n",
              "    .dataframe tbody tr th:only-of-type {\n",
              "        vertical-align: middle;\n",
              "    }\n",
              "\n",
              "    .dataframe tbody tr th {\n",
              "        vertical-align: top;\n",
              "    }\n",
              "\n",
              "    .dataframe thead th {\n",
              "        text-align: right;\n",
              "    }\n",
              "</style>\n",
              "<table border=\"1\" class=\"dataframe\">\n",
              "  <thead>\n",
              "    <tr style=\"text-align: right;\">\n",
              "      <th></th>\n",
              "      <th>feature</th>\n",
              "      <th>classID</th>\n",
              "    </tr>\n",
              "  </thead>\n",
              "  <tbody>\n",
              "    <tr>\n",
              "      <th>0</th>\n",
              "      <td>[[30, 30, 30, 30, 30, 30, 30, 30, 30, 30, 30, ...</td>\n",
              "      <td>3</td>\n",
              "    </tr>\n",
              "    <tr>\n",
              "      <th>1</th>\n",
              "      <td>[[132, 155, 158, 143, 133, 175, 195, 197, 186,...</td>\n",
              "      <td>2</td>\n",
              "    </tr>\n",
              "    <tr>\n",
              "      <th>2</th>\n",
              "      <td>[[100, 120, 144, 160, 151, 163, 164, 156, 144,...</td>\n",
              "      <td>2</td>\n",
              "    </tr>\n",
              "    <tr>\n",
              "      <th>3</th>\n",
              "      <td>[[121, 122, 114, 105, 109, 102, 102, 107, 111,...</td>\n",
              "      <td>2</td>\n",
              "    </tr>\n",
              "    <tr>\n",
              "      <th>4</th>\n",
              "      <td>[[157, 169, 171, 163, 160, 164, 160, 158, 164,...</td>\n",
              "      <td>2</td>\n",
              "    </tr>\n",
              "  </tbody>\n",
              "</table>\n",
              "</div>\n",
              "      <button class=\"colab-df-convert\" onclick=\"convertToInteractive('df-645efaad-c0df-4fe1-a404-f609a4647f79')\"\n",
              "              title=\"Convert this dataframe to an interactive table.\"\n",
              "              style=\"display:none;\">\n",
              "        \n",
              "  <svg xmlns=\"http://www.w3.org/2000/svg\" height=\"24px\"viewBox=\"0 0 24 24\"\n",
              "       width=\"24px\">\n",
              "    <path d=\"M0 0h24v24H0V0z\" fill=\"none\"/>\n",
              "    <path d=\"M18.56 5.44l.94 2.06.94-2.06 2.06-.94-2.06-.94-.94-2.06-.94 2.06-2.06.94zm-11 1L8.5 8.5l.94-2.06 2.06-.94-2.06-.94L8.5 2.5l-.94 2.06-2.06.94zm10 10l.94 2.06.94-2.06 2.06-.94-2.06-.94-.94-2.06-.94 2.06-2.06.94z\"/><path d=\"M17.41 7.96l-1.37-1.37c-.4-.4-.92-.59-1.43-.59-.52 0-1.04.2-1.43.59L10.3 9.45l-7.72 7.72c-.78.78-.78 2.05 0 2.83L4 21.41c.39.39.9.59 1.41.59.51 0 1.02-.2 1.41-.59l7.78-7.78 2.81-2.81c.8-.78.8-2.07 0-2.86zM5.41 20L4 18.59l7.72-7.72 1.47 1.35L5.41 20z\"/>\n",
              "  </svg>\n",
              "      </button>\n",
              "      \n",
              "  <style>\n",
              "    .colab-df-container {\n",
              "      display:flex;\n",
              "      flex-wrap:wrap;\n",
              "      gap: 12px;\n",
              "    }\n",
              "\n",
              "    .colab-df-convert {\n",
              "      background-color: #E8F0FE;\n",
              "      border: none;\n",
              "      border-radius: 50%;\n",
              "      cursor: pointer;\n",
              "      display: none;\n",
              "      fill: #1967D2;\n",
              "      height: 32px;\n",
              "      padding: 0 0 0 0;\n",
              "      width: 32px;\n",
              "    }\n",
              "\n",
              "    .colab-df-convert:hover {\n",
              "      background-color: #E2EBFA;\n",
              "      box-shadow: 0px 1px 2px rgba(60, 64, 67, 0.3), 0px 1px 3px 1px rgba(60, 64, 67, 0.15);\n",
              "      fill: #174EA6;\n",
              "    }\n",
              "\n",
              "    [theme=dark] .colab-df-convert {\n",
              "      background-color: #3B4455;\n",
              "      fill: #D2E3FC;\n",
              "    }\n",
              "\n",
              "    [theme=dark] .colab-df-convert:hover {\n",
              "      background-color: #434B5C;\n",
              "      box-shadow: 0px 1px 3px 1px rgba(0, 0, 0, 0.15);\n",
              "      filter: drop-shadow(0px 1px 2px rgba(0, 0, 0, 0.3));\n",
              "      fill: #FFFFFF;\n",
              "    }\n",
              "  </style>\n",
              "\n",
              "      <script>\n",
              "        const buttonEl =\n",
              "          document.querySelector('#df-645efaad-c0df-4fe1-a404-f609a4647f79 button.colab-df-convert');\n",
              "        buttonEl.style.display =\n",
              "          google.colab.kernel.accessAllowed ? 'block' : 'none';\n",
              "\n",
              "        async function convertToInteractive(key) {\n",
              "          const element = document.querySelector('#df-645efaad-c0df-4fe1-a404-f609a4647f79');\n",
              "          const dataTable =\n",
              "            await google.colab.kernel.invokeFunction('convertToInteractive',\n",
              "                                                     [key], {});\n",
              "          if (!dataTable) return;\n",
              "\n",
              "          const docLinkHtml = 'Like what you see? Visit the ' +\n",
              "            '<a target=\"_blank\" href=https://colab.research.google.com/notebooks/data_table.ipynb>data table notebook</a>'\n",
              "            + ' to learn more about interactive tables.';\n",
              "          element.innerHTML = '';\n",
              "          dataTable['output_type'] = 'display_data';\n",
              "          await google.colab.output.renderOutput(dataTable, element);\n",
              "          const docLink = document.createElement('div');\n",
              "          docLink.innerHTML = docLinkHtml;\n",
              "          element.appendChild(docLink);\n",
              "        }\n",
              "      </script>\n",
              "    </div>\n",
              "  </div>\n",
              "  "
            ]
          },
          "metadata": {},
          "execution_count": 57
        }
      ],
      "id": "5J8HxkoDpKPs"
    },
    {
      "cell_type": "code",
      "execution_count": null,
      "id": "76d770bc",
      "metadata": {
        "id": "76d770bc"
      },
      "outputs": [],
      "source": [
        "### Split the dataset into independent and dependent dataset\n",
        "X=np.array(extracted_features_df['feature'].tolist())\n",
        "y=np.array(extracted_features_df['classID'].tolist())\n"
      ]
    },
    {
      "cell_type": "code",
      "execution_count": null,
      "id": "765ea7c1",
      "metadata": {
        "id": "765ea7c1",
        "outputId": "892e511d-d42d-47c6-dcd3-7c55bbbac5c9"
      },
      "outputs": [
        {
          "name": "stdout",
          "output_type": "stream",
          "text": [
            "(224, 224)\n"
          ]
        }
      ],
      "source": [
        "print(X[50].shape)"
      ]
    },
    {
      "cell_type": "code",
      "execution_count": null,
      "id": "194a98cd",
      "metadata": {
        "id": "194a98cd"
      },
      "outputs": [],
      "source": [
        "### attempt_2: distrubte the data later\n",
        "X_train=X[:6987]\n",
        "y_train=y[:6987]\n",
        "X_val=X[6987:7860]\n",
        "y_val=y[6987:7860]\n",
        "X_test=X[7860:]\n",
        "y_test=y[7860:]"
      ]
    },
    {
      "cell_type": "code",
      "execution_count": null,
      "id": "88f5e7e5",
      "metadata": {
        "id": "88f5e7e5"
      },
      "outputs": [],
      "source": [
        "X_train = np.array(X_train)\n",
        "y_train = np.array(y_train)\n",
        "X_val = np.array(X_val)\n",
        "y_val = np.array(y_val)\n",
        "X_test = np.array(X_test)\n",
        "y_test = np.array(y_test)"
      ]
    },
    {
      "cell_type": "code",
      "execution_count": null,
      "id": "7ab8d628",
      "metadata": {
        "id": "7ab8d628",
        "outputId": "0972ae08-0ead-487a-e9ed-53a0b0efd493"
      },
      "outputs": [
        {
          "name": "stdout",
          "output_type": "stream",
          "text": [
            "6987 873 872\n"
          ]
        }
      ],
      "source": [
        "print(len(X_train),len(X_val),len(X_test))"
      ]
    },
    {
      "cell_type": "code",
      "execution_count": null,
      "id": "1acd044b",
      "metadata": {
        "id": "1acd044b"
      },
      "outputs": [],
      "source": [
        "X_train=X_train/255\n",
        "X_val=X_val/255\n",
        "X_test=X_test/255"
      ]
    },
    {
      "cell_type": "code",
      "execution_count": null,
      "id": "b8087005",
      "metadata": {
        "id": "b8087005",
        "outputId": "d016bfa7-4eb4-483c-db91-38f1b45b985e"
      },
      "outputs": [
        {
          "name": "stdout",
          "output_type": "stream",
          "text": [
            "Requirement already satisfied: tensorflow in c:\\users\\ovak\\anaconda3\\lib\\site-packages (2.10.0)\n",
            "Requirement already satisfied: opt-einsum>=2.3.2 in c:\\users\\ovak\\anaconda3\\lib\\site-packages (from tensorflow) (3.3.0)\n",
            "Requirement already satisfied: tensorflow-io-gcs-filesystem>=0.23.1 in c:\\users\\ovak\\anaconda3\\lib\\site-packages (from tensorflow) (0.27.0)\n",
            "Requirement already satisfied: setuptools in c:\\users\\ovak\\anaconda3\\lib\\site-packages (from tensorflow) (61.2.0)\n",
            "Requirement already satisfied: tensorboard<2.11,>=2.10 in c:\\users\\ovak\\anaconda3\\lib\\site-packages (from tensorflow) (2.10.1)\n",
            "Requirement already satisfied: flatbuffers>=2.0 in c:\\users\\ovak\\anaconda3\\lib\\site-packages (from tensorflow) (22.9.24)\n",
            "Requirement already satisfied: keras-preprocessing>=1.1.1 in c:\\users\\ovak\\anaconda3\\lib\\site-packages (from tensorflow) (1.1.2)\n",
            "Requirement already satisfied: google-pasta>=0.1.1 in c:\\users\\ovak\\anaconda3\\lib\\site-packages (from tensorflow) (0.2.0)\n",
            "Requirement already satisfied: typing-extensions>=3.6.6 in c:\\users\\ovak\\anaconda3\\lib\\site-packages (from tensorflow) (4.1.1)\n",
            "Requirement already satisfied: wrapt>=1.11.0 in c:\\users\\ovak\\anaconda3\\lib\\site-packages (from tensorflow) (1.12.1)\n",
            "Requirement already satisfied: h5py>=2.9.0 in c:\\users\\ovak\\anaconda3\\lib\\site-packages (from tensorflow) (3.6.0)\n",
            "Requirement already satisfied: libclang>=13.0.0 in c:\\users\\ovak\\anaconda3\\lib\\site-packages (from tensorflow) (14.0.6)\n",
            "Requirement already satisfied: absl-py>=1.0.0 in c:\\users\\ovak\\anaconda3\\lib\\site-packages (from tensorflow) (1.2.0)\n",
            "Requirement already satisfied: numpy>=1.20 in c:\\users\\ovak\\anaconda3\\lib\\site-packages (from tensorflow) (1.21.5)\n",
            "Requirement already satisfied: protobuf<3.20,>=3.9.2 in c:\\users\\ovak\\anaconda3\\lib\\site-packages (from tensorflow) (3.19.1)\n",
            "Requirement already satisfied: gast<=0.4.0,>=0.2.1 in c:\\users\\ovak\\anaconda3\\lib\\site-packages (from tensorflow) (0.4.0)\n",
            "Requirement already satisfied: packaging in c:\\users\\ovak\\anaconda3\\lib\\site-packages (from tensorflow) (21.3)\n",
            "Requirement already satisfied: six>=1.12.0 in c:\\users\\ovak\\anaconda3\\lib\\site-packages (from tensorflow) (1.16.0)\n",
            "Requirement already satisfied: termcolor>=1.1.0 in c:\\users\\ovak\\anaconda3\\lib\\site-packages (from tensorflow) (2.0.1)\n",
            "Requirement already satisfied: keras<2.11,>=2.10.0 in c:\\users\\ovak\\anaconda3\\lib\\site-packages (from tensorflow) (2.10.0)\n",
            "Requirement already satisfied: astunparse>=1.6.0 in c:\\users\\ovak\\anaconda3\\lib\\site-packages (from tensorflow) (1.6.3)\n",
            "Requirement already satisfied: grpcio<2.0,>=1.24.3 in c:\\users\\ovak\\anaconda3\\lib\\site-packages (from tensorflow) (1.42.0)\n",
            "Requirement already satisfied: tensorflow-estimator<2.11,>=2.10.0 in c:\\users\\ovak\\anaconda3\\lib\\site-packages (from tensorflow) (2.10.0)\n",
            "Requirement already satisfied: wheel<1.0,>=0.23.0 in c:\\users\\ovak\\anaconda3\\lib\\site-packages (from astunparse>=1.6.0->tensorflow) (0.37.1)\n",
            "Requirement already satisfied: requests<3,>=2.21.0 in c:\\users\\ovak\\anaconda3\\lib\\site-packages (from tensorboard<2.11,>=2.10->tensorflow) (2.27.1)\n",
            "Requirement already satisfied: google-auth-oauthlib<0.5,>=0.4.1 in c:\\users\\ovak\\anaconda3\\lib\\site-packages (from tensorboard<2.11,>=2.10->tensorflow) (0.4.6)\n",
            "Requirement already satisfied: werkzeug>=1.0.1 in c:\\users\\ovak\\anaconda3\\lib\\site-packages (from tensorboard<2.11,>=2.10->tensorflow) (2.0.3)\n",
            "Requirement already satisfied: tensorboard-plugin-wit>=1.6.0 in c:\\users\\ovak\\anaconda3\\lib\\site-packages (from tensorboard<2.11,>=2.10->tensorflow) (1.8.1)\n",
            "Requirement already satisfied: tensorboard-data-server<0.7.0,>=0.6.0 in c:\\users\\ovak\\anaconda3\\lib\\site-packages (from tensorboard<2.11,>=2.10->tensorflow) (0.6.1)\n",
            "Requirement already satisfied: markdown>=2.6.8 in c:\\users\\ovak\\anaconda3\\lib\\site-packages (from tensorboard<2.11,>=2.10->tensorflow) (3.3.4)\n",
            "Requirement already satisfied: google-auth<3,>=1.6.3 in c:\\users\\ovak\\anaconda3\\lib\\site-packages (from tensorboard<2.11,>=2.10->tensorflow) (1.33.0)\n",
            "Requirement already satisfied: pyasn1-modules>=0.2.1 in c:\\users\\ovak\\anaconda3\\lib\\site-packages (from google-auth<3,>=1.6.3->tensorboard<2.11,>=2.10->tensorflow) (0.2.8)\n",
            "Requirement already satisfied: cachetools<5.0,>=2.0.0 in c:\\users\\ovak\\anaconda3\\lib\\site-packages (from google-auth<3,>=1.6.3->tensorboard<2.11,>=2.10->tensorflow) (4.2.2)\n",
            "Requirement already satisfied: rsa<5,>=3.1.4 in c:\\users\\ovak\\anaconda3\\lib\\site-packages (from google-auth<3,>=1.6.3->tensorboard<2.11,>=2.10->tensorflow) (4.7.2)\n",
            "Requirement already satisfied: requests-oauthlib>=0.7.0 in c:\\users\\ovak\\anaconda3\\lib\\site-packages (from google-auth-oauthlib<0.5,>=0.4.1->tensorboard<2.11,>=2.10->tensorflow) (1.3.1)\n",
            "Requirement already satisfied: pyasn1<0.5.0,>=0.4.6 in c:\\users\\ovak\\anaconda3\\lib\\site-packages (from pyasn1-modules>=0.2.1->google-auth<3,>=1.6.3->tensorboard<2.11,>=2.10->tensorflow) (0.4.8)\n",
            "Requirement already satisfied: urllib3<1.27,>=1.21.1 in c:\\users\\ovak\\anaconda3\\lib\\site-packages (from requests<3,>=2.21.0->tensorboard<2.11,>=2.10->tensorflow) (1.26.9)\n",
            "Requirement already satisfied: idna<4,>=2.5 in c:\\users\\ovak\\anaconda3\\lib\\site-packages (from requests<3,>=2.21.0->tensorboard<2.11,>=2.10->tensorflow) (3.3)\n",
            "Requirement already satisfied: certifi>=2017.4.17 in c:\\users\\ovak\\anaconda3\\lib\\site-packages (from requests<3,>=2.21.0->tensorboard<2.11,>=2.10->tensorflow) (2021.10.8)\n",
            "Requirement already satisfied: charset-normalizer~=2.0.0 in c:\\users\\ovak\\anaconda3\\lib\\site-packages (from requests<3,>=2.21.0->tensorboard<2.11,>=2.10->tensorflow) (2.0.4)\n",
            "Requirement already satisfied: oauthlib>=3.0.0 in c:\\users\\ovak\\anaconda3\\lib\\site-packages (from requests-oauthlib>=0.7.0->google-auth-oauthlib<0.5,>=0.4.1->tensorboard<2.11,>=2.10->tensorflow) (3.2.1)\n",
            "Requirement already satisfied: pyparsing!=3.0.5,>=2.0.2 in c:\\users\\ovak\\anaconda3\\lib\\site-packages (from packaging->tensorflow) (3.0.4)\n"
          ]
        }
      ],
      "source": [
        "!pip install tensorflow"
      ]
    },
    {
      "cell_type": "code",
      "execution_count": null,
      "id": "e338d134",
      "metadata": {
        "id": "e338d134"
      },
      "outputs": [],
      "source": [
        "import tensorflow as tf\n",
        "import numpy as np\n",
        "import matplotlib.pyplot as plt"
      ]
    },
    {
      "cell_type": "code",
      "execution_count": null,
      "id": "028f0d49",
      "metadata": {
        "id": "028f0d49"
      },
      "outputs": [],
      "source": [
        "##"
      ]
    },
    {
      "cell_type": "code",
      "execution_count": null,
      "id": "2c62074e",
      "metadata": {
        "id": "2c62074e"
      },
      "outputs": [],
      "source": [
        "# Create a model object\n",
        "model= tf.keras.Sequential()"
      ]
    },
    {
      "cell_type": "code",
      "execution_count": null,
      "id": "4a359bdc",
      "metadata": {
        "id": "4a359bdc"
      },
      "outputs": [],
      "source": [
        "# Add a convolution and max pooling layer\n",
        "model.add(tf.keras.layers.Conv2D(32,\n",
        "                                 kernel_size=(5),\n",
        "                                 strides=(1,1),\n",
        "                                 padding=\"same\",\n",
        "                                 activation=\"relu\",\n",
        "                                 input_shape=(224,224,1)))\n",
        "model.add(tf.keras.layers.MaxPooling2D((2,2)))"
      ]
    },
    {
      "cell_type": "code",
      "execution_count": null,
      "id": "03237e0c",
      "metadata": {
        "id": "03237e0c"
      },
      "outputs": [],
      "source": [
        "# Add more convolution and max pooling layers\n",
        "model.add(tf.keras.layers.Conv2D(64,\n",
        "                                 kernel_size=(5),\n",
        "                                 strides=(1,1),\n",
        "                                 padding=\"same\",\n",
        "                                 activation=\"relu\"))\n",
        "model.add(tf.keras.layers.MaxPooling2D((2,2)))\n",
        "model.add(tf.keras.layers.Conv2D(64,\n",
        "                                 kernel_size=(5),\n",
        "                                 strides=(1,1),\n",
        "                                 padding=\"same\",\n",
        "                                 activation=\"relu\"))"
      ]
    },
    {
      "cell_type": "code",
      "execution_count": null,
      "id": "e7ae7e32",
      "metadata": {
        "id": "e7ae7e32"
      },
      "outputs": [],
      "source": [
        "# Flatten the convolution layer\n",
        "model.add(tf.keras.layers.Flatten())"
      ]
    },
    {
      "cell_type": "code",
      "execution_count": null,
      "id": "6f9cfcb7",
      "metadata": {
        "id": "6f9cfcb7"
      },
      "outputs": [],
      "source": [
        "# Add the dense layer and dropout layer\n",
        "model.add(tf.keras.layers.Dense(64,activation=\"relu\"))\n",
        "model.add(tf.keras.layers.Dropout(0.5))\n",
        "\n",
        "# Add the dense layer and dropout layer\n",
        "model.add(tf.keras.layers.Dense(64,activation=\"relu\"))\n",
        "model.add(tf.keras.layers.Dropout(0.5))"
      ]
    },
    {
      "cell_type": "code",
      "execution_count": null,
      "id": "133e397d",
      "metadata": {
        "id": "133e397d"
      },
      "outputs": [],
      "source": [
        "# Add the output layer\n",
        "model.add(tf.keras.layers.Dense(10,activation=\"softmax\"))"
      ]
    },
    {
      "cell_type": "code",
      "execution_count": null,
      "id": "ce7a6ec1",
      "metadata": {
        "id": "ce7a6ec1"
      },
      "outputs": [],
      "source": [
        "# Compile the model\n",
        "model.compile(optimizer=\"adam\",\n",
        "              loss=\"sparse_categorical_crossentropy\",\n",
        "              metrics=[\"accuracy\"])"
      ]
    },
    {
      "cell_type": "code",
      "execution_count": null,
      "id": "l5A1oK5lA0tC",
      "metadata": {
        "colab": {
          "base_uri": "https://localhost:8080/"
        },
        "id": "l5A1oK5lA0tC",
        "outputId": "f3d20876-51af-442c-cce4-d4f5d3b31358"
      },
      "outputs": [
        {
          "name": "stdout",
          "output_type": "stream",
          "text": [
            "Epoch 1/50\n",
            "55/55 [==============================] - 28s 257ms/step - loss: 2.2879 - accuracy: 0.1300 - val_loss: 2.2446 - val_accuracy: 0.1741\n",
            "Epoch 2/50\n",
            "55/55 [==============================] - 11s 202ms/step - loss: 2.0952 - accuracy: 0.2070 - val_loss: 2.0521 - val_accuracy: 0.2016\n",
            "Epoch 3/50\n",
            "55/55 [==============================] - 11s 206ms/step - loss: 1.9109 - accuracy: 0.2835 - val_loss: 1.7988 - val_accuracy: 0.3734\n",
            "Epoch 4/50\n",
            "55/55 [==============================] - 11s 203ms/step - loss: 1.6917 - accuracy: 0.3866 - val_loss: 1.6095 - val_accuracy: 0.4433\n",
            "Epoch 5/50\n",
            "55/55 [==============================] - 11s 204ms/step - loss: 1.5124 - accuracy: 0.4391 - val_loss: 1.4603 - val_accuracy: 0.5487\n",
            "Epoch 6/50\n",
            "55/55 [==============================] - 11s 205ms/step - loss: 1.3744 - accuracy: 0.5028 - val_loss: 1.3524 - val_accuracy: 0.5796\n",
            "Epoch 7/50\n",
            "55/55 [==============================] - 11s 206ms/step - loss: 1.2448 - accuracy: 0.5410 - val_loss: 1.3190 - val_accuracy: 0.5487\n",
            "Epoch 8/50\n",
            "55/55 [==============================] - 11s 207ms/step - loss: 1.1312 - accuracy: 0.5799 - val_loss: 1.2911 - val_accuracy: 0.5773\n",
            "Epoch 9/50\n",
            "55/55 [==============================] - 11s 209ms/step - loss: 1.0462 - accuracy: 0.6131 - val_loss: 1.3319 - val_accuracy: 0.5739\n",
            "Epoch 10/50\n",
            "55/55 [==============================] - 11s 206ms/step - loss: 0.9876 - accuracy: 0.6279 - val_loss: 1.4931 - val_accuracy: 0.5693\n",
            "Epoch 11/50\n",
            "55/55 [==============================] - 11s 205ms/step - loss: 0.8851 - accuracy: 0.6637 - val_loss: 1.5037 - val_accuracy: 0.5682\n",
            "Epoch 12/50\n",
            "55/55 [==============================] - 11s 205ms/step - loss: 0.8660 - accuracy: 0.6705 - val_loss: 1.4713 - val_accuracy: 0.5452\n",
            "Epoch 13/50\n",
            "55/55 [==============================] - 11s 206ms/step - loss: 0.8253 - accuracy: 0.6837 - val_loss: 1.5176 - val_accuracy: 0.5624\n",
            "Epoch 14/50\n",
            "55/55 [==============================] - 11s 205ms/step - loss: 0.8052 - accuracy: 0.6878 - val_loss: 1.4815 - val_accuracy: 0.5911\n",
            "Epoch 15/50\n",
            "55/55 [==============================] - 11s 206ms/step - loss: 0.7580 - accuracy: 0.7003 - val_loss: 1.5267 - val_accuracy: 0.5578\n",
            "Epoch 16/50\n",
            "55/55 [==============================] - 11s 206ms/step - loss: 0.7352 - accuracy: 0.7132 - val_loss: 1.5034 - val_accuracy: 0.5773\n",
            "Epoch 17/50\n",
            "55/55 [==============================] - 11s 208ms/step - loss: 0.7000 - accuracy: 0.7266 - val_loss: 1.6333 - val_accuracy: 0.5682\n",
            "Epoch 18/50\n",
            "55/55 [==============================] - 11s 206ms/step - loss: 0.6640 - accuracy: 0.7430 - val_loss: 1.8365 - val_accuracy: 0.5521\n",
            "Epoch 19/50\n",
            "55/55 [==============================] - 11s 206ms/step - loss: 0.6768 - accuracy: 0.7374 - val_loss: 1.6758 - val_accuracy: 0.6163\n",
            "Epoch 20/50\n",
            "55/55 [==============================] - 11s 206ms/step - loss: 0.6543 - accuracy: 0.7442 - val_loss: 1.8579 - val_accuracy: 0.5418\n",
            "Epoch 21/50\n",
            "55/55 [==============================] - 11s 205ms/step - loss: 0.6325 - accuracy: 0.7544 - val_loss: 1.6732 - val_accuracy: 0.5956\n",
            "Epoch 22/50\n",
            "55/55 [==============================] - 11s 206ms/step - loss: 0.6330 - accuracy: 0.7588 - val_loss: 1.5992 - val_accuracy: 0.5773\n",
            "Epoch 23/50\n",
            "55/55 [==============================] - 11s 206ms/step - loss: 0.6158 - accuracy: 0.7620 - val_loss: 1.8600 - val_accuracy: 0.5876\n",
            "Epoch 24/50\n",
            "55/55 [==============================] - 11s 206ms/step - loss: 0.5967 - accuracy: 0.7709 - val_loss: 1.6974 - val_accuracy: 0.5865\n",
            "Epoch 25/50\n",
            "55/55 [==============================] - 11s 208ms/step - loss: 0.5904 - accuracy: 0.7690 - val_loss: 1.8768 - val_accuracy: 0.5762\n",
            "Epoch 26/50\n",
            "55/55 [==============================] - 11s 207ms/step - loss: 0.5726 - accuracy: 0.7773 - val_loss: 1.8495 - val_accuracy: 0.5945\n",
            "Epoch 27/50\n",
            "55/55 [==============================] - 11s 206ms/step - loss: 0.5690 - accuracy: 0.7764 - val_loss: 1.9601 - val_accuracy: 0.5739\n",
            "Epoch 28/50\n",
            "55/55 [==============================] - 11s 205ms/step - loss: 0.5840 - accuracy: 0.7697 - val_loss: 1.7222 - val_accuracy: 0.5842\n",
            "Epoch 29/50\n",
            "55/55 [==============================] - 11s 205ms/step - loss: 0.5792 - accuracy: 0.7762 - val_loss: 2.0333 - val_accuracy: 0.6231\n",
            "Epoch 30/50\n",
            "55/55 [==============================] - 11s 206ms/step - loss: 0.5425 - accuracy: 0.7888 - val_loss: 1.8663 - val_accuracy: 0.5865\n",
            "Epoch 31/50\n",
            "55/55 [==============================] - 11s 206ms/step - loss: 0.5349 - accuracy: 0.7903 - val_loss: 2.1203 - val_accuracy: 0.5716\n",
            "Epoch 32/50\n",
            "55/55 [==============================] - 11s 205ms/step - loss: 0.5260 - accuracy: 0.7979 - val_loss: 2.0959 - val_accuracy: 0.5899\n",
            "Epoch 33/50\n",
            "55/55 [==============================] - 11s 205ms/step - loss: 0.5127 - accuracy: 0.7936 - val_loss: 2.4277 - val_accuracy: 0.5716\n",
            "Epoch 34/50\n",
            "55/55 [==============================] - 11s 206ms/step - loss: 0.5052 - accuracy: 0.8064 - val_loss: 2.2719 - val_accuracy: 0.5934\n",
            "Epoch 35/50\n",
            "55/55 [==============================] - 11s 206ms/step - loss: 0.5146 - accuracy: 0.8042 - val_loss: 2.5616 - val_accuracy: 0.5647\n",
            "Epoch 36/50\n",
            "55/55 [==============================] - 11s 206ms/step - loss: 0.5171 - accuracy: 0.8029 - val_loss: 2.1528 - val_accuracy: 0.6105\n",
            "Epoch 37/50\n",
            "55/55 [==============================] - 11s 206ms/step - loss: 0.5160 - accuracy: 0.8044 - val_loss: 2.2373 - val_accuracy: 0.5899\n",
            "Epoch 38/50\n",
            "55/55 [==============================] - 11s 205ms/step - loss: 0.4942 - accuracy: 0.8094 - val_loss: 2.5989 - val_accuracy: 0.5911\n",
            "Epoch 39/50\n",
            "55/55 [==============================] - 11s 206ms/step - loss: 0.4934 - accuracy: 0.8117 - val_loss: 2.5048 - val_accuracy: 0.5659\n",
            "Epoch 40/50\n",
            "55/55 [==============================] - 11s 206ms/step - loss: 0.5005 - accuracy: 0.8148 - val_loss: 2.6765 - val_accuracy: 0.5819\n",
            "Epoch 41/50\n",
            "55/55 [==============================] - 11s 206ms/step - loss: 0.4721 - accuracy: 0.8201 - val_loss: 2.4025 - val_accuracy: 0.5979\n",
            "Epoch 42/50\n",
            "55/55 [==============================] - 11s 207ms/step - loss: 0.4899 - accuracy: 0.8162 - val_loss: 2.5130 - val_accuracy: 0.5865\n",
            "Epoch 43/50\n",
            "55/55 [==============================] - 11s 205ms/step - loss: 0.4842 - accuracy: 0.8177 - val_loss: 2.5070 - val_accuracy: 0.6105\n",
            "Epoch 44/50\n",
            "55/55 [==============================] - 11s 205ms/step - loss: 0.4576 - accuracy: 0.8240 - val_loss: 2.5759 - val_accuracy: 0.5842\n",
            "Epoch 45/50\n",
            "55/55 [==============================] - 11s 205ms/step - loss: 0.4903 - accuracy: 0.8169 - val_loss: 2.3345 - val_accuracy: 0.5647\n",
            "Epoch 46/50\n",
            "55/55 [==============================] - 11s 206ms/step - loss: 0.4702 - accuracy: 0.8284 - val_loss: 2.6685 - val_accuracy: 0.5762\n",
            "Epoch 47/50\n",
            "55/55 [==============================] - 11s 206ms/step - loss: 0.4631 - accuracy: 0.8278 - val_loss: 2.6962 - val_accuracy: 0.5968\n",
            "Epoch 48/50\n",
            "55/55 [==============================] - 11s 206ms/step - loss: 0.4405 - accuracy: 0.8304 - val_loss: 2.5451 - val_accuracy: 0.5968\n",
            "Epoch 49/50\n",
            "55/55 [==============================] - 11s 206ms/step - loss: 0.4424 - accuracy: 0.8288 - val_loss: 2.7396 - val_accuracy: 0.5395\n",
            "Epoch 50/50\n",
            "55/55 [==============================] - 11s 206ms/step - loss: 0.4510 - accuracy: 0.8293 - val_loss: 3.0105 - val_accuracy: 0.5567\n"
          ]
        }
      ],
      "source": [
        "# Train the model for 50 epochs with batch size of 128r\n",
        "results=model.fit(X_train,y_train,\n",
        "                  batch_size=128,\n",
        "                  epochs=50,\n",
        "                  validation_data=(X_val,y_val))"
      ]
    },
    {
      "cell_type": "code",
      "execution_count": null,
      "id": "5oPHBTEcA4GK",
      "metadata": {
        "colab": {
          "base_uri": "https://localhost:8080/",
          "height": 279
        },
        "id": "5oPHBTEcA4GK",
        "outputId": "3f61ec8c-601e-4ea6-f45b-d29b151052e9"
      },
      "outputs": [
        {
          "data": {
            "image/png": "[encoded data removed]",
            "text/plain": [
              "<Figure size 432x288 with 1 Axes>"
            ]
          },
          "metadata": {
            "needs_background": "light"
          },
          "output_type": "display_data"
        }
      ],
      "source": [
        "# Plot the the training loss\n",
        "plt.plot(results.history[\"loss\"],label=\"loss\")\n",
        "\n",
        "# Plot the the validation loss\n",
        "\n",
        "plt.plot(results.history[\"val_loss\"],label=\"val_loss\")\n",
        "# Name the x and y axises\n",
        "plt.xlabel(\"Epoch\")\n",
        "plt.ylabel(\"Loss\")\n",
        "\n",
        "\n",
        "# Put legend table\n",
        "plt.legend()\n",
        "\n",
        "# Show the plot\n",
        "plt.show()"
      ]
    },
    {
      "cell_type": "code",
      "execution_count": null,
      "id": "P01xEkLpA9Y6",
      "metadata": {
        "colab": {
          "base_uri": "https://localhost:8080/",
          "height": 279
        },
        "id": "P01xEkLpA9Y6",
        "outputId": "8b72608d-82f4-4e04-9429-b4bcb107c01e"
      },
      "outputs": [
        {
          "data": {
            "image/png": "[encoded data removed]",
            "text/plain": [
              "<Figure size 432x288 with 1 Axes>"
            ]
          },
          "metadata": {
            "needs_background": "light"
          },
          "output_type": "display_data"
        }
      ],
      "source": [
        "# Plot the the training loss\n",
        "plt.plot(results.history[\"accuracy\"],label=\"accuracy\")\n",
        "\n",
        "# Plot the the validation loss\n",
        "\n",
        "plt.plot(results.history[\"val_accuracy\"],label=\"val_accuracy\")\n",
        "# Name the x and y axises\n",
        "plt.xlabel(\"Epoch\")\n",
        "plt.ylabel(\"Accuracy\")\n",
        "\n",
        "\n",
        "# Put legend table\n",
        "plt.legend()\n",
        "\n",
        "# Show the plot\n",
        "plt.show()"
      ]
    },
    {
      "cell_type": "code",
      "execution_count": null,
      "id": "Nji0w9VSH5BK",
      "metadata": {
        "colab": {
          "base_uri": "https://localhost:8080/"
        },
        "id": "Nji0w9VSH5BK",
        "outputId": "8afad104-6299-45ce-a570-6705f3946412"
      },
      "outputs": [
        {
          "name": "stdout",
          "output_type": "stream",
          "text": [
            "28/28 [==============================] - 1s 26ms/step - loss: 3.0421 - accuracy: 0.5596\n"
          ]
        },
        {
          "data": {
            "text/plain": [
              "[3.0421252250671387, 0.5596330165863037]"
            ]
          },
          "execution_count": 43,
          "metadata": {},
          "output_type": "execute_result"
        }
      ],
      "source": [
        "model.evaluate(X_test,y_test)"
      ]
    }
  ],
  "metadata": {
    "colab": {
      "collapsed_sections": [],
      "provenance": []
    },
    "kernelspec": {
      "display_name": "Python 3 (ipykernel)",
      "language": "python",
      "name": "python3"
    },
    "language_info": {
      "codemirror_mode": {
        "name": "ipython",
        "version": 3
      },
      "file_extension": ".py",
      "mimetype": "text/x-python",
      "name": "python",
      "nbconvert_exporter": "python",
      "pygments_lexer": "ipython3",
      "version": "3.9.12"
    }
  },
  "nbformat": 4,
  "nbformat_minor": 5
}